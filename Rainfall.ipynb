{
 "cells": [
  {
   "cell_type": "code",
   "execution_count": 24,
   "id": "19759713-b2ae-47cd-b18c-4cac40ce10a6",
   "metadata": {},
   "outputs": [],
   "source": [
    "import pandas as pd\n",
    "import numpy as np\n",
    "import matplotlib.pyplot as plt\n",
    "%matplotlib inline\n",
    "import seaborn as sns\n",
    "import pickle\n",
    "\n",
    "import warnings \n",
    "warnings.filterwarnings('ignore')"
   ]
  },
  {
   "cell_type": "code",
   "execution_count": 25,
   "id": "9559f214-2943-440e-bc5f-4b01585af395",
   "metadata": {},
   "outputs": [],
   "source": [
    "df= pd.read_csv('weatherAUS.csv')\n"
   ]
  },
  {
   "cell_type": "code",
   "execution_count": 26,
   "id": "3e9f67fd-e0fe-479c-beca-1f97de3d99d8",
   "metadata": {},
   "outputs": [
    {
     "data": {
      "text/html": [
       "<div>\n",
       "<style scoped>\n",
       "    .dataframe tbody tr th:only-of-type {\n",
       "        vertical-align: middle;\n",
       "    }\n",
       "\n",
       "    .dataframe tbody tr th {\n",
       "        vertical-align: top;\n",
       "    }\n",
       "\n",
       "    .dataframe thead th {\n",
       "        text-align: right;\n",
       "    }\n",
       "</style>\n",
       "<table border=\"1\" class=\"dataframe\">\n",
       "  <thead>\n",
       "    <tr style=\"text-align: right;\">\n",
       "      <th></th>\n",
       "      <th>Date</th>\n",
       "      <th>Location</th>\n",
       "      <th>MinTemp</th>\n",
       "      <th>MaxTemp</th>\n",
       "      <th>Rainfall</th>\n",
       "      <th>Evaporation</th>\n",
       "      <th>Sunshine</th>\n",
       "      <th>WindGustDir</th>\n",
       "      <th>WindGustSpeed</th>\n",
       "      <th>WindDir9am</th>\n",
       "      <th>...</th>\n",
       "      <th>Humidity9am</th>\n",
       "      <th>Humidity3pm</th>\n",
       "      <th>Pressure9am</th>\n",
       "      <th>Pressure3pm</th>\n",
       "      <th>Cloud9am</th>\n",
       "      <th>Cloud3pm</th>\n",
       "      <th>Temp9am</th>\n",
       "      <th>Temp3pm</th>\n",
       "      <th>RainToday</th>\n",
       "      <th>RainTomorrow</th>\n",
       "    </tr>\n",
       "  </thead>\n",
       "  <tbody>\n",
       "    <tr>\n",
       "      <th>0</th>\n",
       "      <td>2008-12-01</td>\n",
       "      <td>Albury</td>\n",
       "      <td>13.4</td>\n",
       "      <td>22.9</td>\n",
       "      <td>0.6</td>\n",
       "      <td>NaN</td>\n",
       "      <td>NaN</td>\n",
       "      <td>W</td>\n",
       "      <td>44.0</td>\n",
       "      <td>W</td>\n",
       "      <td>...</td>\n",
       "      <td>71.0</td>\n",
       "      <td>22.0</td>\n",
       "      <td>1007.7</td>\n",
       "      <td>1007.1</td>\n",
       "      <td>8.0</td>\n",
       "      <td>NaN</td>\n",
       "      <td>16.9</td>\n",
       "      <td>21.8</td>\n",
       "      <td>No</td>\n",
       "      <td>No</td>\n",
       "    </tr>\n",
       "    <tr>\n",
       "      <th>1</th>\n",
       "      <td>2008-12-02</td>\n",
       "      <td>Albury</td>\n",
       "      <td>7.4</td>\n",
       "      <td>25.1</td>\n",
       "      <td>0.0</td>\n",
       "      <td>NaN</td>\n",
       "      <td>NaN</td>\n",
       "      <td>WNW</td>\n",
       "      <td>44.0</td>\n",
       "      <td>NNW</td>\n",
       "      <td>...</td>\n",
       "      <td>44.0</td>\n",
       "      <td>25.0</td>\n",
       "      <td>1010.6</td>\n",
       "      <td>1007.8</td>\n",
       "      <td>NaN</td>\n",
       "      <td>NaN</td>\n",
       "      <td>17.2</td>\n",
       "      <td>24.3</td>\n",
       "      <td>No</td>\n",
       "      <td>No</td>\n",
       "    </tr>\n",
       "    <tr>\n",
       "      <th>2</th>\n",
       "      <td>2008-12-03</td>\n",
       "      <td>Albury</td>\n",
       "      <td>12.9</td>\n",
       "      <td>25.7</td>\n",
       "      <td>0.0</td>\n",
       "      <td>NaN</td>\n",
       "      <td>NaN</td>\n",
       "      <td>WSW</td>\n",
       "      <td>46.0</td>\n",
       "      <td>W</td>\n",
       "      <td>...</td>\n",
       "      <td>38.0</td>\n",
       "      <td>30.0</td>\n",
       "      <td>1007.6</td>\n",
       "      <td>1008.7</td>\n",
       "      <td>NaN</td>\n",
       "      <td>2.0</td>\n",
       "      <td>21.0</td>\n",
       "      <td>23.2</td>\n",
       "      <td>No</td>\n",
       "      <td>No</td>\n",
       "    </tr>\n",
       "    <tr>\n",
       "      <th>3</th>\n",
       "      <td>2008-12-04</td>\n",
       "      <td>Albury</td>\n",
       "      <td>9.2</td>\n",
       "      <td>28.0</td>\n",
       "      <td>0.0</td>\n",
       "      <td>NaN</td>\n",
       "      <td>NaN</td>\n",
       "      <td>NE</td>\n",
       "      <td>24.0</td>\n",
       "      <td>SE</td>\n",
       "      <td>...</td>\n",
       "      <td>45.0</td>\n",
       "      <td>16.0</td>\n",
       "      <td>1017.6</td>\n",
       "      <td>1012.8</td>\n",
       "      <td>NaN</td>\n",
       "      <td>NaN</td>\n",
       "      <td>18.1</td>\n",
       "      <td>26.5</td>\n",
       "      <td>No</td>\n",
       "      <td>No</td>\n",
       "    </tr>\n",
       "    <tr>\n",
       "      <th>4</th>\n",
       "      <td>2008-12-05</td>\n",
       "      <td>Albury</td>\n",
       "      <td>17.5</td>\n",
       "      <td>32.3</td>\n",
       "      <td>1.0</td>\n",
       "      <td>NaN</td>\n",
       "      <td>NaN</td>\n",
       "      <td>W</td>\n",
       "      <td>41.0</td>\n",
       "      <td>ENE</td>\n",
       "      <td>...</td>\n",
       "      <td>82.0</td>\n",
       "      <td>33.0</td>\n",
       "      <td>1010.8</td>\n",
       "      <td>1006.0</td>\n",
       "      <td>7.0</td>\n",
       "      <td>8.0</td>\n",
       "      <td>17.8</td>\n",
       "      <td>29.7</td>\n",
       "      <td>No</td>\n",
       "      <td>No</td>\n",
       "    </tr>\n",
       "  </tbody>\n",
       "</table>\n",
       "<p>5 rows × 23 columns</p>\n",
       "</div>"
      ],
      "text/plain": [
       "         Date Location  MinTemp  MaxTemp  Rainfall  Evaporation  Sunshine  \\\n",
       "0  2008-12-01   Albury     13.4     22.9       0.6          NaN       NaN   \n",
       "1  2008-12-02   Albury      7.4     25.1       0.0          NaN       NaN   \n",
       "2  2008-12-03   Albury     12.9     25.7       0.0          NaN       NaN   \n",
       "3  2008-12-04   Albury      9.2     28.0       0.0          NaN       NaN   \n",
       "4  2008-12-05   Albury     17.5     32.3       1.0          NaN       NaN   \n",
       "\n",
       "  WindGustDir  WindGustSpeed WindDir9am  ... Humidity9am  Humidity3pm  \\\n",
       "0           W           44.0          W  ...        71.0         22.0   \n",
       "1         WNW           44.0        NNW  ...        44.0         25.0   \n",
       "2         WSW           46.0          W  ...        38.0         30.0   \n",
       "3          NE           24.0         SE  ...        45.0         16.0   \n",
       "4           W           41.0        ENE  ...        82.0         33.0   \n",
       "\n",
       "   Pressure9am  Pressure3pm  Cloud9am  Cloud3pm  Temp9am  Temp3pm  RainToday  \\\n",
       "0       1007.7       1007.1       8.0       NaN     16.9     21.8         No   \n",
       "1       1010.6       1007.8       NaN       NaN     17.2     24.3         No   \n",
       "2       1007.6       1008.7       NaN       2.0     21.0     23.2         No   \n",
       "3       1017.6       1012.8       NaN       NaN     18.1     26.5         No   \n",
       "4       1010.8       1006.0       7.0       8.0     17.8     29.7         No   \n",
       "\n",
       "   RainTomorrow  \n",
       "0            No  \n",
       "1            No  \n",
       "2            No  \n",
       "3            No  \n",
       "4            No  \n",
       "\n",
       "[5 rows x 23 columns]"
      ]
     },
     "execution_count": 26,
     "metadata": {},
     "output_type": "execute_result"
    }
   ],
   "source": [
    "df.head()"
   ]
  },
  {
   "cell_type": "code",
   "execution_count": 13,
   "id": "3ce2c698-f497-4b00-bc73-eea6f78390d1",
   "metadata": {},
   "outputs": [
    {
     "data": {
      "text/plain": [
       "(8425, 23)"
      ]
     },
     "execution_count": 13,
     "metadata": {},
     "output_type": "execute_result"
    }
   ],
   "source": [
    "df.shape\n"
   ]
  },
  {
   "cell_type": "code",
   "execution_count": 10,
   "id": "005457dd-4739-4bac-a10c-4d94ce687ac7",
   "metadata": {},
   "outputs": [
    {
     "data": {
      "text/plain": [
       "RangeIndex(start=0, stop=8425, step=1)"
      ]
     },
     "execution_count": 10,
     "metadata": {},
     "output_type": "execute_result"
    }
   ],
   "source": [
    "df.index"
   ]
  },
  {
   "cell_type": "code",
   "execution_count": 11,
   "id": "5fc72f65-4d13-4b1a-a928-625ece06717b",
   "metadata": {},
   "outputs": [
    {
     "data": {
      "text/plain": [
       "Index(['Date', 'Location', 'MinTemp', 'MaxTemp', 'Rainfall', 'Evaporation',\n",
       "       'Sunshine', 'WindGustDir', 'WindGustSpeed', 'WindDir9am', 'WindDir3pm',\n",
       "       'WindSpeed9am', 'WindSpeed3pm', 'Humidity9am', 'Humidity3pm',\n",
       "       'Pressure9am', 'Pressure3pm', 'Cloud9am', 'Cloud3pm', 'Temp9am',\n",
       "       'Temp3pm', 'RainToday', 'RainTomorrow'],\n",
       "      dtype='object')"
      ]
     },
     "execution_count": 11,
     "metadata": {},
     "output_type": "execute_result"
    }
   ],
   "source": [
    "df.columns"
   ]
  },
  {
   "cell_type": "code",
   "execution_count": 12,
   "id": "e01eb449-09e2-418a-885c-04990d082b5d",
   "metadata": {},
   "outputs": [
    {
     "data": {
      "text/plain": [
       "Date              object\n",
       "Location          object\n",
       "MinTemp          float64\n",
       "MaxTemp          float64\n",
       "Rainfall         float64\n",
       "Evaporation      float64\n",
       "Sunshine         float64\n",
       "WindGustDir       object\n",
       "WindGustSpeed    float64\n",
       "WindDir9am        object\n",
       "WindDir3pm        object\n",
       "WindSpeed9am     float64\n",
       "WindSpeed3pm     float64\n",
       "Humidity9am      float64\n",
       "Humidity3pm      float64\n",
       "Pressure9am      float64\n",
       "Pressure3pm      float64\n",
       "Cloud9am         float64\n",
       "Cloud3pm         float64\n",
       "Temp9am          float64\n",
       "Temp3pm          float64\n",
       "RainToday         object\n",
       "RainTomorrow      object\n",
       "dtype: object"
      ]
     },
     "execution_count": 12,
     "metadata": {},
     "output_type": "execute_result"
    }
   ],
   "source": [
    "df.dtypes"
   ]
  },
  {
   "cell_type": "code",
   "execution_count": 13,
   "id": "ac1bca94-f40c-41aa-bc95-1636680efcfe",
   "metadata": {},
   "outputs": [
    {
     "data": {
      "text/plain": [
       "array([6.000e-01, 0.000e+00, 1.000e+00, 2.000e-01, 1.400e+00, 2.200e+00,\n",
       "       1.560e+01, 3.600e+00,       nan, 1.680e+01, 1.060e+01, 1.200e+00,\n",
       "       8.000e-01, 6.400e+00, 4.000e-01, 3.000e+00, 5.800e+00, 1.160e+01,\n",
       "       1.800e+00, 8.600e+00, 1.260e+01, 8.400e+00, 6.200e+00, 2.000e+01,\n",
       "       2.100e+01, 3.200e+00, 4.800e+00, 4.200e+00, 8.000e+00, 1.440e+01,\n",
       "       4.600e+00, 2.000e+00, 5.600e+00, 1.600e+00, 6.000e+00, 4.400e+00,\n",
       "       5.400e+00, 5.000e+00, 7.800e+00, 6.800e+00, 9.800e+00, 3.800e+00,\n",
       "       2.400e+00, 5.200e+00, 6.600e+00, 1.340e+01, 1.020e+01, 2.880e+01,\n",
       "       7.000e+00, 2.580e+01, 9.400e+00, 1.240e+01, 5.220e+01, 2.060e+01,\n",
       "       6.600e+01, 1.100e+01, 1.700e+01, 1.040e+01, 2.800e+01, 2.140e+01,\n",
       "       1.860e+01, 7.200e+00, 8.200e+00, 1.080e+01, 1.540e+01, 9.600e+00,\n",
       "       4.000e+00, 2.180e+01, 2.080e+01, 2.480e+01, 1.000e+01, 1.140e+01,\n",
       "       1.900e+01, 2.220e+01, 3.280e+01, 3.400e+00, 5.080e+01, 5.260e+01,\n",
       "       1.920e+01, 1.880e+01, 1.480e+01, 1.200e+01, 1.840e+01, 2.560e+01,\n",
       "       3.500e+01, 1.420e+01, 1.380e+01, 2.600e+00, 9.920e+01, 5.100e+01,\n",
       "       3.980e+01, 2.820e+01, 1.220e+01, 1.280e+01, 1.180e+01, 1.980e+01,\n",
       "       1.740e+01, 8.800e+00, 2.440e+01, 6.260e+01, 7.400e+00, 3.800e+01,\n",
       "       9.200e+00, 2.120e+01, 5.900e+01, 1.120e+01, 2.980e+01, 2.020e+01,\n",
       "       4.280e+01, 7.600e+01, 1.960e+01, 2.800e+00, 5.580e+01, 7.000e+01,\n",
       "       7.120e+01, 1.360e+01, 1.520e+01, 9.000e+00, 1.418e+02, 9.600e+01,\n",
       "       3.710e+02, 5.800e+01, 2.940e+01, 3.420e+01, 3.880e+01, 6.700e+01,\n",
       "       8.060e+01, 1.320e+01, 5.660e+01, 4.520e+01, 2.400e+01, 1.820e+01,\n",
       "       5.940e+01, 3.340e+01, 4.260e+01, 3.440e+01, 7.600e+00, 1.620e+01,\n",
       "       9.000e+01, 1.280e+02, 6.120e+01, 1.300e+01, 2.380e+01, 2.760e+01,\n",
       "       1.580e+01, 7.380e+01, 3.080e+01, 1.460e+01, 2.040e+01, 3.580e+01,\n",
       "       1.325e+02, 1.500e+01, 2.300e+01, 4.680e+01, 3.110e+01, 2.780e+01,\n",
       "       3.820e+01, 1.570e+01, 5.000e-01, 1.000e-01, 2.600e+01, 2.250e+01,\n",
       "       3.380e+01, 1.720e+01, 2.280e+01, 3.840e+01, 5.140e+01, 7.000e-01,\n",
       "       1.500e+00, 3.140e+01, 3.240e+01, 2.400e+02, 4.120e+01, 6.300e+00,\n",
       "       4.300e+01, 1.760e+01, 3.760e+01, 3.000e+01, 4.960e+01, 2.720e+01,\n",
       "       4.340e+01, 2.340e+01, 8.560e+01, 4.700e+01, 1.640e+01, 2.640e+01,\n",
       "       3.540e+01, 2.500e+01, 3.020e+01, 4.060e+01, 2.520e+01, 2.250e+02,\n",
       "       3.740e+01, 3.600e+01, 8.700e+00, 1.108e+02, 9.140e+01, 2.100e+00,\n",
       "       1.900e+00, 1.810e+01, 5.500e+00, 2.300e+00, 2.500e+00, 2.900e+00,\n",
       "       5.820e+01, 2.840e+01, 1.600e+01, 3.300e+01, 1.940e+01, 2.360e+01,\n",
       "       4.920e+01, 3.620e+01, 4.840e+01, 3.160e+01, 2.320e+01, 4.900e+01,\n",
       "       6.080e+01, 5.740e+01, 1.780e+01, 4.580e+01, 3.520e+01, 3.920e+01,\n",
       "       2.260e+01, 6.140e+01, 2.240e+01, 8.220e+01, 3.460e+01, 6.880e+01,\n",
       "       2.920e+01, 3.260e+01, 2.960e+01, 4.440e+01, 3.120e+01, 1.684e+02,\n",
       "       1.800e+01, 3.220e+01, 5.840e+01, 1.400e+01, 7.640e+01, 1.660e+01,\n",
       "       2.200e+01, 3.720e+01, 2.700e+01, 2.160e+01, 3.060e+01, 2.540e+01,\n",
       "       2.680e+01, 9.100e+01, 1.422e+02, 9.680e+01, 4.000e+01])"
      ]
     },
     "execution_count": 13,
     "metadata": {},
     "output_type": "execute_result"
    }
   ],
   "source": [
    "df['Rainfall'].unique()"
   ]
  },
  {
   "cell_type": "code",
   "execution_count": 14,
   "id": "b7ef8e9b-4076-4023-be6b-7e001750c199",
   "metadata": {},
   "outputs": [
    {
     "data": {
      "text/plain": [
       "Date             3004\n",
       "Location           12\n",
       "MinTemp           285\n",
       "MaxTemp           331\n",
       "Rainfall          250\n",
       "Evaporation       116\n",
       "Sunshine          140\n",
       "WindGustDir        16\n",
       "WindGustSpeed      52\n",
       "WindDir9am         16\n",
       "WindDir3pm         16\n",
       "WindSpeed9am       34\n",
       "WindSpeed3pm       35\n",
       "Humidity9am        90\n",
       "Humidity3pm        94\n",
       "Pressure9am       384\n",
       "Pressure3pm       374\n",
       "Cloud9am            9\n",
       "Cloud3pm            9\n",
       "Temp9am           304\n",
       "Temp3pm           328\n",
       "RainToday           2\n",
       "RainTomorrow        2\n",
       "dtype: int64"
      ]
     },
     "execution_count": 14,
     "metadata": {},
     "output_type": "execute_result"
    }
   ],
   "source": [
    "df.nunique()"
   ]
  },
  {
   "cell_type": "code",
   "execution_count": 15,
   "id": "336e7f10-ba5e-4edb-b8e6-1140c871325d",
   "metadata": {},
   "outputs": [
    {
     "data": {
      "text/plain": [
       "<bound method DataFrame.count of             Date Location  MinTemp  MaxTemp  Rainfall  Evaporation  Sunshine  \\\n",
       "0     2008-12-01   Albury     13.4     22.9       0.6          NaN       NaN   \n",
       "1     2008-12-02   Albury      7.4     25.1       0.0          NaN       NaN   \n",
       "2     2008-12-03   Albury     12.9     25.7       0.0          NaN       NaN   \n",
       "3     2008-12-04   Albury      9.2     28.0       0.0          NaN       NaN   \n",
       "4     2008-12-05   Albury     17.5     32.3       1.0          NaN       NaN   \n",
       "...          ...      ...      ...      ...       ...          ...       ...   \n",
       "8420  2017-06-21    Uluru      2.8     23.4       0.0          NaN       NaN   \n",
       "8421  2017-06-22    Uluru      3.6     25.3       0.0          NaN       NaN   \n",
       "8422  2017-06-23    Uluru      5.4     26.9       0.0          NaN       NaN   \n",
       "8423  2017-06-24    Uluru      7.8     27.0       0.0          NaN       NaN   \n",
       "8424  2017-06-25    Uluru     14.9      NaN       0.0          NaN       NaN   \n",
       "\n",
       "     WindGustDir  WindGustSpeed WindDir9am  ... Humidity9am  Humidity3pm  \\\n",
       "0              W           44.0          W  ...        71.0         22.0   \n",
       "1            WNW           44.0        NNW  ...        44.0         25.0   \n",
       "2            WSW           46.0          W  ...        38.0         30.0   \n",
       "3             NE           24.0         SE  ...        45.0         16.0   \n",
       "4              W           41.0        ENE  ...        82.0         33.0   \n",
       "...          ...            ...        ...  ...         ...          ...   \n",
       "8420           E           31.0         SE  ...        51.0         24.0   \n",
       "8421         NNW           22.0         SE  ...        56.0         21.0   \n",
       "8422           N           37.0         SE  ...        53.0         24.0   \n",
       "8423          SE           28.0        SSE  ...        51.0         24.0   \n",
       "8424         NaN            NaN        ESE  ...        62.0         36.0   \n",
       "\n",
       "      Pressure9am  Pressure3pm  Cloud9am  Cloud3pm  Temp9am  Temp3pm  \\\n",
       "0          1007.7       1007.1       8.0       NaN     16.9     21.8   \n",
       "1          1010.6       1007.8       NaN       NaN     17.2     24.3   \n",
       "2          1007.6       1008.7       NaN       2.0     21.0     23.2   \n",
       "3          1017.6       1012.8       NaN       NaN     18.1     26.5   \n",
       "4          1010.8       1006.0       7.0       8.0     17.8     29.7   \n",
       "...           ...          ...       ...       ...      ...      ...   \n",
       "8420       1024.6       1020.3       NaN       NaN     10.1     22.4   \n",
       "8421       1023.5       1019.1       NaN       NaN     10.9     24.5   \n",
       "8422       1021.0       1016.8       NaN       NaN     12.5     26.1   \n",
       "8423       1019.4       1016.5       3.0       2.0     15.1     26.0   \n",
       "8424       1020.2       1017.9       8.0       8.0     15.0     20.9   \n",
       "\n",
       "      RainToday  RainTomorrow  \n",
       "0            No            No  \n",
       "1            No            No  \n",
       "2            No            No  \n",
       "3            No            No  \n",
       "4            No            No  \n",
       "...         ...           ...  \n",
       "8420         No            No  \n",
       "8421         No            No  \n",
       "8422         No            No  \n",
       "8423         No            No  \n",
       "8424         No           NaN  \n",
       "\n",
       "[8425 rows x 23 columns]>"
      ]
     },
     "execution_count": 15,
     "metadata": {},
     "output_type": "execute_result"
    }
   ],
   "source": [
    "df.count"
   ]
  },
  {
   "cell_type": "code",
   "execution_count": 16,
   "id": "1f3f67cf-cac8-4e82-94ac-f4c8077ad227",
   "metadata": {},
   "outputs": [
    {
     "data": {
      "text/plain": [
       "0.0      5299\n",
       "0.2       406\n",
       "0.4       177\n",
       "0.6       116\n",
       "1.2        86\n",
       "         ... \n",
       "61.2        1\n",
       "128.0       1\n",
       "90.0        1\n",
       "34.4        1\n",
       "40.0        1\n",
       "Name: Rainfall, Length: 250, dtype: int64"
      ]
     },
     "execution_count": 16,
     "metadata": {},
     "output_type": "execute_result"
    }
   ],
   "source": [
    "df['Rainfall'].value_counts()"
   ]
  },
  {
   "cell_type": "code",
   "execution_count": 17,
   "id": "d340d15b-96c6-436e-886e-b473cfe393c6",
   "metadata": {},
   "outputs": [
    {
     "name": "stdout",
     "output_type": "stream",
     "text": [
      "<class 'pandas.core.frame.DataFrame'>\n",
      "RangeIndex: 8425 entries, 0 to 8424\n",
      "Data columns (total 23 columns):\n",
      " #   Column         Non-Null Count  Dtype  \n",
      "---  ------         --------------  -----  \n",
      " 0   Date           8425 non-null   object \n",
      " 1   Location       8425 non-null   object \n",
      " 2   MinTemp        8350 non-null   float64\n",
      " 3   MaxTemp        8365 non-null   float64\n",
      " 4   Rainfall       8185 non-null   float64\n",
      " 5   Evaporation    4913 non-null   float64\n",
      " 6   Sunshine       4431 non-null   float64\n",
      " 7   WindGustDir    7434 non-null   object \n",
      " 8   WindGustSpeed  7434 non-null   float64\n",
      " 9   WindDir9am     7596 non-null   object \n",
      " 10  WindDir3pm     8117 non-null   object \n",
      " 11  WindSpeed9am   8349 non-null   float64\n",
      " 12  WindSpeed3pm   8318 non-null   float64\n",
      " 13  Humidity9am    8366 non-null   float64\n",
      " 14  Humidity3pm    8323 non-null   float64\n",
      " 15  Pressure9am    7116 non-null   float64\n",
      " 16  Pressure3pm    7113 non-null   float64\n",
      " 17  Cloud9am       6004 non-null   float64\n",
      " 18  Cloud3pm       5970 non-null   float64\n",
      " 19  Temp9am        8369 non-null   float64\n",
      " 20  Temp3pm        8329 non-null   float64\n",
      " 21  RainToday      8185 non-null   object \n",
      " 22  RainTomorrow   8186 non-null   object \n",
      "dtypes: float64(16), object(7)\n",
      "memory usage: 1.5+ MB\n"
     ]
    }
   ],
   "source": [
    "df.info()"
   ]
  },
  {
   "cell_type": "code",
   "execution_count": 19,
   "id": "7af48625-a449-4bb2-a13d-346fa20a3d6e",
   "metadata": {},
   "outputs": [
    {
     "data": {
      "text/plain": [
       "<AxesSubplot: >"
      ]
     },
     "execution_count": 19,
     "metadata": {},
     "output_type": "execute_result"
    },
    {
     "data": {
      "image/png": "[encoded data removed]",
      "text/plain": [
       "<Figure size 1080x576 with 2 Axes>"
      ]
     },
     "metadata": {
      "needs_background": "light"
     },
     "output_type": "display_data"
    }
   ],
   "source": [
    "plt.figure(figsize=(15,8))\n",
    "sns.heatmap(df.isnull())"
   ]
  },
  {
   "cell_type": "code",
   "execution_count": 20,
   "id": "9c0196b5-1379-4d22-bbe5-d7ad35985d1a",
   "metadata": {},
   "outputs": [],
   "source": [
    "catg_features=[col for col in df.columns if df[col].dtypes=='object']\n",
    "cont_features=[col for col in df.columns if df [col].dtypes=='object']"
   ]
  },
  {
   "cell_type": "code",
   "execution_count": 21,
   "id": "c482f7e6-a274-48ef-9713-7086c81c518f",
   "metadata": {},
   "outputs": [
    {
     "data": {
      "text/plain": [
       "['Date',\n",
       " 'Location',\n",
       " 'WindGustDir',\n",
       " 'WindDir9am',\n",
       " 'WindDir3pm',\n",
       " 'RainToday',\n",
       " 'RainTomorrow']"
      ]
     },
     "execution_count": 21,
     "metadata": {},
     "output_type": "execute_result"
    }
   ],
   "source": [
    "catg_features"
   ]
  },
  {
   "cell_type": "code",
   "execution_count": 25,
   "id": "412ffed3-9858-455e-bd4c-3f488485dee9",
   "metadata": {},
   "outputs": [
    {
     "data": {
      "text/plain": [
       "No     73.531157\n",
       "Yes    23.632047\n",
       "NaN     2.836795\n",
       "Name: RainTomorrow, dtype: float64"
      ]
     },
     "execution_count": 25,
     "metadata": {},
     "output_type": "execute_result"
    }
   ],
   "source": [
    "df['RainTomorrow'].value_counts(normalize=True,dropna=False)*100"
   ]
  },
  {
   "cell_type": "code",
   "execution_count": 26,
   "id": "510d589e-4423-41c7-b539-519abd2c1a94",
   "metadata": {},
   "outputs": [],
   "source": [
    "target_df=df['RainTomorrow'].value_counts(normalize=True,dropna=False)*100"
   ]
  },
  {
   "cell_type": "code",
   "execution_count": 27,
   "id": "ad554be4-312f-4244-b156-2305c68c6d7d",
   "metadata": {},
   "outputs": [
    {
     "data": {
      "text/plain": [
       "Text(0, 0.5, 'percentage')"
      ]
     },
     "execution_count": 27,
     "metadata": {},
     "output_type": "execute_result"
    },
    {
     "data": {
      "image/png": "[encoded data removed]",
      "text/plain": [
       "<Figure size 576x432 with 1 Axes>"
      ]
     },
     "metadata": {
      "needs_background": "light"
     },
     "output_type": "display_data"
    }
   ],
   "source": [
    "plt.figure(figsize=(8,6))\n",
    "plt.title(\"Target Feature (Rain Tomorrow)-categories\",fontweight='bold',fontsize=15)\n",
    "ax=sns.barplot(x=target_df.index,y=target_df.values)\n",
    "plt.xlabel('Rain Tomorrow')\n",
    "plt.ylabel('percentage')"
   ]
  },
  {
   "cell_type": "markdown",
   "id": "57a889b1-04c6-410d-b746-f35369df1097",
   "metadata": {},
   "source": [
    "Date"
   ]
  },
  {
   "cell_type": "code",
   "execution_count": 28,
   "id": "16ba5f2f-e62a-4108-9e2a-82bcf43b3fb5",
   "metadata": {},
   "outputs": [
    {
     "data": {
      "text/plain": [
       "3004"
      ]
     },
     "execution_count": 28,
     "metadata": {},
     "output_type": "execute_result"
    }
   ],
   "source": [
    "df['Date'].nunique()"
   ]
  },
  {
   "cell_type": "markdown",
   "id": "2b2da381-9ace-40aa-8493-71843c5f3f8c",
   "metadata": {},
   "source": [
    "Location"
   ]
  },
  {
   "cell_type": "code",
   "execution_count": 30,
   "id": "112bc0b1-4891-48aa-ad12-6060019dfb33",
   "metadata": {},
   "outputs": [
    {
     "data": {
      "text/plain": [
       "array(['Albury', 'CoffsHarbour', 'Newcastle', 'Penrith', 'Williamtown',\n",
       "       'Wollongong', 'Melbourne', 'Brisbane', 'Adelaide', 'PerthAirport',\n",
       "       'Darwin', 'Uluru'], dtype=object)"
      ]
     },
     "execution_count": 30,
     "metadata": {},
     "output_type": "execute_result"
    }
   ],
   "source": [
    "df['Location'].unique()"
   ]
  },
  {
   "cell_type": "code",
   "execution_count": 29,
   "id": "d8ff35da-2217-4b25-8e26-13b59a93a3cc",
   "metadata": {},
   "outputs": [
    {
     "data": {
      "text/plain": [
       "Melbourne       1622\n",
       "Williamtown     1230\n",
       "PerthAirport    1204\n",
       "Albury           907\n",
       "Newcastle        822\n",
       "CoffsHarbour     611\n",
       "Brisbane         579\n",
       "Penrith          482\n",
       "Wollongong       474\n",
       "Darwin           250\n",
       "Adelaide         205\n",
       "Uluru             39\n",
       "Name: Location, dtype: int64"
      ]
     },
     "execution_count": 29,
     "metadata": {},
     "output_type": "execute_result"
    }
   ],
   "source": [
    "df['Location'].value_counts()"
   ]
  },
  {
   "cell_type": "markdown",
   "id": "8cd880c4-7f40-4058-a0a2-6edc2b78a7f5",
   "metadata": {},
   "source": [
    "Min Temp"
   ]
  },
  {
   "cell_type": "code",
   "execution_count": 22,
   "id": "87be8423-28eb-440b-886f-a9864ad8b139",
   "metadata": {},
   "outputs": [],
   "source": [
    "#Data Distribution looks like normally distributed\n"
   ]
  },
  {
   "cell_type": "code",
   "execution_count": 19,
   "id": "41bcafff-a8ed-41bb-a3f3-2af9a4280620",
   "metadata": {},
   "outputs": [
    {
     "data": {
      "text/plain": [
       "<AxesSubplot: xlabel='MaxTemp', ylabel='Density'>"
      ]
     },
     "execution_count": 19,
     "metadata": {},
     "output_type": "execute_result"
    },
    {
     "data": {
      "image/png": "[encoded data removed]",
      "text/plain": [
       "<Figure size 432x288 with 1 Axes>"
      ]
     },
     "metadata": {
      "needs_background": "light"
     },
     "output_type": "display_data"
    }
   ],
   "source": [
    "sns.distplot(df['MaxTemp'])"
   ]
  },
  {
   "cell_type": "markdown",
   "id": "800284c6-c190-4176-9281-5cb5e3f55a26",
   "metadata": {},
   "source": [
    "Min Temp"
   ]
  },
  {
   "cell_type": "code",
   "execution_count": 21,
   "id": "d80e33dd-652e-4ece-bdfc-8f213bf736bd",
   "metadata": {},
   "outputs": [
    {
     "data": {
      "text/plain": [
       "<AxesSubplot: xlabel='MinTemp', ylabel='Density'>"
      ]
     },
     "execution_count": 21,
     "metadata": {},
     "output_type": "execute_result"
    },
    {
     "data": {
      "image/png": "[encoded data removed]",
      "text/plain": [
       "<Figure size 432x288 with 1 Axes>"
      ]
     },
     "metadata": {
      "needs_background": "light"
     },
     "output_type": "display_data"
    }
   ],
   "source": [
    "sns.distplot(df['MinTemp'])"
   ]
  },
  {
   "cell_type": "markdown",
   "id": "f32659ed-b58a-4fbb-ac1f-8e76e2efc0bd",
   "metadata": {},
   "source": [
    "Distribution of continous features"
   ]
  },
  {
   "cell_type": "code",
   "execution_count": 24,
   "id": "031962dd-c4d6-4a41-99bf-270bb2d21dd5",
   "metadata": {},
   "outputs": [],
   "source": [
    "import random\n",
    "\n",
    "color=['#000057','#005757','#005700','#ad7100','#008080','#5757','#003153']\n",
    "cmap_=['magma','copper','crest']\n"
   ]
  },
  {
   "cell_type": "markdown",
   "id": "23c913d9-692f-447b-934b-99fd47615acb",
   "metadata": {},
   "source": [
    "Bivarient EDA"
   ]
  },
  {
   "cell_type": "code",
   "execution_count": 30,
   "id": "c8a8cb0b-a403-4cc5-9cb0-3abf902e0d63",
   "metadata": {},
   "outputs": [
    {
     "data": {
      "text/plain": [
       "Index(['Date', 'Location', 'MinTemp', 'MaxTemp', 'Rainfall', 'Evaporation',\n",
       "       'Sunshine', 'WindGustDir', 'WindGustSpeed', 'WindDir9am', 'WindDir3pm',\n",
       "       'WindSpeed9am', 'WindSpeed3pm', 'Humidity9am', 'Humidity3pm',\n",
       "       'Pressure9am', 'Pressure3pm', 'Cloud9am', 'Cloud3pm', 'Temp9am',\n",
       "       'Temp3pm', 'RainToday', 'RainTomorrow'],\n",
       "      dtype='object')"
      ]
     },
     "execution_count": 30,
     "metadata": {},
     "output_type": "execute_result"
    }
   ],
   "source": [
    "df.columns"
   ]
  },
  {
   "cell_type": "code",
   "execution_count": 31,
   "id": "307bf82a-5b2f-41c6-9934-83ae7862e628",
   "metadata": {},
   "outputs": [
    {
     "data": {
      "text/html": [
       "<div>\n",
       "<style scoped>\n",
       "    .dataframe tbody tr th:only-of-type {\n",
       "        vertical-align: middle;\n",
       "    }\n",
       "\n",
       "    .dataframe tbody tr th {\n",
       "        vertical-align: top;\n",
       "    }\n",
       "\n",
       "    .dataframe thead th {\n",
       "        text-align: right;\n",
       "    }\n",
       "</style>\n",
       "<table border=\"1\" class=\"dataframe\">\n",
       "  <thead>\n",
       "    <tr style=\"text-align: right;\">\n",
       "      <th></th>\n",
       "      <th>Date</th>\n",
       "      <th>Location</th>\n",
       "      <th>MinTemp</th>\n",
       "      <th>MaxTemp</th>\n",
       "      <th>Rainfall</th>\n",
       "      <th>Evaporation</th>\n",
       "      <th>Sunshine</th>\n",
       "      <th>WindGustDir</th>\n",
       "      <th>WindGustSpeed</th>\n",
       "      <th>WindDir9am</th>\n",
       "      <th>...</th>\n",
       "      <th>Humidity9am</th>\n",
       "      <th>Humidity3pm</th>\n",
       "      <th>Pressure9am</th>\n",
       "      <th>Pressure3pm</th>\n",
       "      <th>Cloud9am</th>\n",
       "      <th>Cloud3pm</th>\n",
       "      <th>Temp9am</th>\n",
       "      <th>Temp3pm</th>\n",
       "      <th>RainToday</th>\n",
       "      <th>RainTomorrow</th>\n",
       "    </tr>\n",
       "  </thead>\n",
       "  <tbody>\n",
       "    <tr>\n",
       "      <th>0</th>\n",
       "      <td>2008-12-01</td>\n",
       "      <td>Albury</td>\n",
       "      <td>13.4</td>\n",
       "      <td>22.9</td>\n",
       "      <td>0.6</td>\n",
       "      <td>NaN</td>\n",
       "      <td>NaN</td>\n",
       "      <td>W</td>\n",
       "      <td>44.0</td>\n",
       "      <td>W</td>\n",
       "      <td>...</td>\n",
       "      <td>71.0</td>\n",
       "      <td>22.0</td>\n",
       "      <td>1007.7</td>\n",
       "      <td>1007.1</td>\n",
       "      <td>8.0</td>\n",
       "      <td>NaN</td>\n",
       "      <td>16.9</td>\n",
       "      <td>21.8</td>\n",
       "      <td>No</td>\n",
       "      <td>No</td>\n",
       "    </tr>\n",
       "    <tr>\n",
       "      <th>1</th>\n",
       "      <td>2008-12-02</td>\n",
       "      <td>Albury</td>\n",
       "      <td>7.4</td>\n",
       "      <td>25.1</td>\n",
       "      <td>0.0</td>\n",
       "      <td>NaN</td>\n",
       "      <td>NaN</td>\n",
       "      <td>WNW</td>\n",
       "      <td>44.0</td>\n",
       "      <td>NNW</td>\n",
       "      <td>...</td>\n",
       "      <td>44.0</td>\n",
       "      <td>25.0</td>\n",
       "      <td>1010.6</td>\n",
       "      <td>1007.8</td>\n",
       "      <td>NaN</td>\n",
       "      <td>NaN</td>\n",
       "      <td>17.2</td>\n",
       "      <td>24.3</td>\n",
       "      <td>No</td>\n",
       "      <td>No</td>\n",
       "    </tr>\n",
       "  </tbody>\n",
       "</table>\n",
       "<p>2 rows × 23 columns</p>\n",
       "</div>"
      ],
      "text/plain": [
       "         Date Location  MinTemp  MaxTemp  Rainfall  Evaporation  Sunshine  \\\n",
       "0  2008-12-01   Albury     13.4     22.9       0.6          NaN       NaN   \n",
       "1  2008-12-02   Albury      7.4     25.1       0.0          NaN       NaN   \n",
       "\n",
       "  WindGustDir  WindGustSpeed WindDir9am  ... Humidity9am  Humidity3pm  \\\n",
       "0           W           44.0          W  ...        71.0         22.0   \n",
       "1         WNW           44.0        NNW  ...        44.0         25.0   \n",
       "\n",
       "   Pressure9am  Pressure3pm  Cloud9am  Cloud3pm  Temp9am  Temp3pm  RainToday  \\\n",
       "0       1007.7       1007.1       8.0       NaN     16.9     21.8         No   \n",
       "1       1010.6       1007.8       NaN       NaN     17.2     24.3         No   \n",
       "\n",
       "   RainTomorrow  \n",
       "0            No  \n",
       "1            No  \n",
       "\n",
       "[2 rows x 23 columns]"
      ]
     },
     "execution_count": 31,
     "metadata": {},
     "output_type": "execute_result"
    }
   ],
   "source": [
    "df.head(2)"
   ]
  },
  {
   "cell_type": "code",
   "execution_count": null,
   "id": "f5252903-b191-45bb-8a68-00b32c9d6d33",
   "metadata": {},
   "outputs": [],
   "source": []
  }
 ],
 "metadata": {
  "kernelspec": {
   "display_name": "Python 3 [3.10]",
   "language": "python",
   "name": "python3"
  },
  "language_info": {
   "codemirror_mode": {
    "name": "ipython",
    "version": 3
   },
   "file_extension": ".py",
   "mimetype": "text/x-python",
   "name": "python",
   "nbconvert_exporter": "python",
   "pygments_lexer": "ipython3",
   "version": "3.10.2"
  }
 },
 "nbformat": 4,
 "nbformat_minor": 5
}
